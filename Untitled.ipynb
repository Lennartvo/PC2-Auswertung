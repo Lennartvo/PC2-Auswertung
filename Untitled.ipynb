{
 "cells": [
  {
   "cell_type": "code",
   "execution_count": 1,
   "metadata": {},
   "outputs": [],
   "source": [
    "import pandas as pd\n",
    "import matplotlib.pyplot as plt\n",
    "import numpy as np"
   ]
  },
  {
   "cell_type": "code",
   "execution_count": 2,
   "metadata": {},
   "outputs": [],
   "source": [
    "MCyclo = 84.16\n",
    "MN = 86.16"
   ]
  },
  {
   "cell_type": "code",
   "execution_count": 3,
   "metadata": {},
   "outputs": [
    {
     "data": {
      "text/html": [
       "<div>\n",
       "<style scoped>\n",
       "    .dataframe tbody tr th:only-of-type {\n",
       "        vertical-align: middle;\n",
       "    }\n",
       "\n",
       "    .dataframe tbody tr th {\n",
       "        vertical-align: top;\n",
       "    }\n",
       "\n",
       "    .dataframe thead th {\n",
       "        text-align: right;\n",
       "    }\n",
       "</style>\n",
       "<table border=\"1\" class=\"dataframe\">\n",
       "  <thead>\n",
       "    <tr style=\"text-align: right;\">\n",
       "      <th></th>\n",
       "      <th>x(n-Hexan)</th>\n",
       "      <th>x(Cyclohexan) in %</th>\n",
       "      <th>Brechungsindex</th>\n",
       "    </tr>\n",
       "  </thead>\n",
       "  <tbody>\n",
       "    <tr>\n",
       "      <th>0</th>\n",
       "      <td>0.000000</td>\n",
       "      <td>100.000000</td>\n",
       "      <td>1.42591</td>\n",
       "    </tr>\n",
       "    <tr>\n",
       "      <th>1</th>\n",
       "      <td>9.026628</td>\n",
       "      <td>90.973372</td>\n",
       "      <td>1.41945</td>\n",
       "    </tr>\n",
       "    <tr>\n",
       "      <th>2</th>\n",
       "      <td>14.637851</td>\n",
       "      <td>85.362149</td>\n",
       "      <td>1.41661</td>\n",
       "    </tr>\n",
       "    <tr>\n",
       "      <th>3</th>\n",
       "      <td>31.256075</td>\n",
       "      <td>68.743925</td>\n",
       "      <td>1.40767</td>\n",
       "    </tr>\n",
       "    <tr>\n",
       "      <th>4</th>\n",
       "      <td>33.929563</td>\n",
       "      <td>66.070437</td>\n",
       "      <td>1.40502</td>\n",
       "    </tr>\n",
       "    <tr>\n",
       "      <th>5</th>\n",
       "      <td>40.649935</td>\n",
       "      <td>59.350065</td>\n",
       "      <td>1.40216</td>\n",
       "    </tr>\n",
       "    <tr>\n",
       "      <th>6</th>\n",
       "      <td>55.035083</td>\n",
       "      <td>44.964917</td>\n",
       "      <td>1.39568</td>\n",
       "    </tr>\n",
       "    <tr>\n",
       "      <th>7</th>\n",
       "      <td>68.962409</td>\n",
       "      <td>31.037591</td>\n",
       "      <td>1.38845</td>\n",
       "    </tr>\n",
       "    <tr>\n",
       "      <th>8</th>\n",
       "      <td>79.510480</td>\n",
       "      <td>20.489520</td>\n",
       "      <td>1.38351</td>\n",
       "    </tr>\n",
       "    <tr>\n",
       "      <th>9</th>\n",
       "      <td>86.927956</td>\n",
       "      <td>13.072044</td>\n",
       "      <td>1.38028</td>\n",
       "    </tr>\n",
       "    <tr>\n",
       "      <th>10</th>\n",
       "      <td>100.000000</td>\n",
       "      <td>0.000000</td>\n",
       "      <td>1.37484</td>\n",
       "    </tr>\n",
       "  </tbody>\n",
       "</table>\n",
       "</div>"
      ],
      "text/plain": [
       "    x(n-Hexan)  x(Cyclohexan) in %  Brechungsindex\n",
       "0     0.000000          100.000000         1.42591\n",
       "1     9.026628           90.973372         1.41945\n",
       "2    14.637851           85.362149         1.41661\n",
       "3    31.256075           68.743925         1.40767\n",
       "4    33.929563           66.070437         1.40502\n",
       "5    40.649935           59.350065         1.40216\n",
       "6    55.035083           44.964917         1.39568\n",
       "7    68.962409           31.037591         1.38845\n",
       "8    79.510480           20.489520         1.38351\n",
       "9    86.927956           13.072044         1.38028\n",
       "10  100.000000            0.000000         1.37484"
      ]
     },
     "execution_count": 3,
     "metadata": {},
     "output_type": "execute_result"
    }
   ],
   "source": [
    "EichkurveMessung = pd.read_excel('V11.xlsx', sheet_name='x')\n",
    "EichkurveMessung"
   ]
  },
  {
   "cell_type": "code",
   "execution_count": 4,
   "metadata": {},
   "outputs": [
    {
     "data": {
      "text/plain": [
       "[<matplotlib.lines.Line2D at 0x28787766668>]"
      ]
     },
     "execution_count": 4,
     "metadata": {},
     "output_type": "execute_result"
    },
    {
     "data": {
      "image/png": "[encoded data removed]",
      "text/plain": [
       "<Figure size 432x288 with 1 Axes>"
      ]
     },
     "metadata": {
      "needs_background": "light"
     },
     "output_type": "display_data"
    }
   ],
   "source": [
    "plt.plot(EichkurveMessung['x(n-Hexan)'],EichkurveMessung['Brechungsindex'], \"r+\")\n",
    "plt.plot(EichkurveMessung['x(n-Hexan)'],EichkurveMessung['Brechungsindex'], \"b-\")"
   ]
  },
  {
   "cell_type": "code",
   "execution_count": 5,
   "metadata": {},
   "outputs": [
    {
     "name": "stdout",
     "output_type": "stream",
     "text": [
      "-0.0005051405826902012 1.4238382512625154 [1.07004651e-05 6.09929769e-04]\n"
     ]
    }
   ],
   "source": [
    "arrey = np.polyfit(EichkurveMessung['x(n-Hexan)'],EichkurveMessung['Brechungsindex'],1,cov=True, full=False)\n",
    "a = arrey[0][0]\n",
    "b = arrey[0][1]\n",
    "Covarianzen = arrey[1]\n",
    "Standardabweichung = np.sqrt(np.diag(Covarianzen))\n",
    "Regression = a* EichkurveMessung['x(n-Hexan)'] + b\n",
    "def Zusammensetzung(y):\n",
    "    x = ((y-b)/(a))\n",
    "    return x\n",
    "print(a,b,Standardabweichung)"
   ]
  },
  {
   "cell_type": "code",
   "execution_count": 6,
   "metadata": {},
   "outputs": [
    {
     "data": {
      "text/plain": [
       "Text(20, 1.387, 'y=-0.0005051*x +  1.424')"
      ]
     },
     "execution_count": 6,
     "metadata": {},
     "output_type": "execute_result"
    },
    {
     "data": {
      "image/png": "[encoded data removed]",
      "text/plain": [
       "<Figure size 432x288 with 1 Axes>"
      ]
     },
     "metadata": {
      "needs_background": "light"
     },
     "output_type": "display_data"
    }
   ],
   "source": [
    "plt.plot(EichkurveMessung['x(n-Hexan)'],EichkurveMessung['Brechungsindex'], \"r+\")\n",
    "plt.plot(EichkurveMessung['x(n-Hexan)'],EichkurveMessung['Brechungsindex'], \"r:\", alpha=0.5)\n",
    "plt.plot(EichkurveMessung['x(n-Hexan)'],Regression, \"g\", alpha=1)\n",
    "plt.text(20,1.387,'y={0:6.4}*x + {1:6.4}'.format(a,b))"
   ]
  },
  {
   "cell_type": "code",
   "execution_count": 7,
   "metadata": {},
   "outputs": [],
   "source": [
    "Ap1 = pd.read_excel('V11.xlsx', sheet_name='Apparatur 1')\n",
    "Referenzen1 = Ap1['Referenz']\n",
    "Kondensaten1 = Ap1['Kondensat']\n",
    "Sumpfen1 = Ap1['Sumpf']\n",
    "def Zusammensetzung(y):\n",
    "    x = ((y-b)/(a))\n",
    "    return x\n",
    "ZusammensetzungKopf1 = [Zusammensetzung(Kondensat) for Kondensat in Kondensaten1]\n",
    "ZusammensetzungSumpf1 = [Zusammensetzung(Sumpf) for Sumpf in Sumpfen1]\n",
    "Zusammensetzung1 = [Zusammensetzung(Referenz) for Referenz in Referenzen1]\n",
    "#erstellen des McCabe-Thiele-Diagramms\n",
    "\n",
    "Ap2 = pd.read_excel('V11.xlsx', sheet_name='Apparatur 2')\n",
    "Kopfen2 = Ap2['Kopf']\n",
    "Sumpfen2 = Ap2['Sumpf']\n",
    "\n",
    "ZusammensetzungKopf2 = [Zusammensetzung(Kopf) for Kopf in Kopfen2]\n",
    "ZusammensetzungSumpf2 = [Zusammensetzung(Sumpf) for Sumpf in Sumpfen2]\n"
   ]
  },
  {
   "cell_type": "code",
   "execution_count": 8,
   "metadata": {},
   "outputs": [
    {
     "name": "stdout",
     "output_type": "stream",
     "text": [
      "254.55257489720168 -281.96906207166876\n",
      "[78.60466027021744, 75.93185823379679, 74.53181907186223, 71.98629332289022, 69.82259643626395]\n"
     ]
    },
    {
     "data": {
      "image/png": "[encoded data removed]",
      "text/plain": [
       "<Figure size 432x288 with 1 Axes>"
      ]
     },
     "metadata": {
      "needs_background": "light"
     },
     "output_type": "display_data"
    }
   ],
   "source": [
    "Zusammensetzung = [1.42591, 1.37484]\n",
    "Siedetemp = [81, 68]\n",
    "plt.plot(Zusammensetzung, Siedetemp)\n",
    "a,b = np.polyfit(Zusammensetzung, Siedetemp,1)\n",
    "print(a,b)\n",
    "\n",
    "def Siedetemp(x):\n",
    "    y = a*x+b\n",
    "    return y\n",
    "Kopftemperaturen = [Siedetemp(referenz) for referenz in Referenzen1]\n",
    "print(Kopftemperaturen)"
   ]
  },
  {
   "cell_type": "code",
   "execution_count": 15,
   "metadata": {},
   "outputs": [
    {
     "data": {
      "text/plain": [
       "[<matplotlib.lines.Line2D at 0x287881d2550>]"
      ]
     },
     "execution_count": 15,
     "metadata": {},
     "output_type": "execute_result"
    },
    {
     "data": {
      "image/png": "[encoded data removed]",
      "text/plain": [
       "<Figure size 432x288 with 1 Axes>"
      ]
     },
     "metadata": {
      "needs_background": "light"
     },
     "output_type": "display_data"
    }
   ],
   "source": [
    "ZusammensetzungKopf1.insert(0, 0)\n",
    "ZusammensetzungKopf1.append(100)\n",
    "ZusammensetzungSumpf1.insert(0, 0)\n",
    "ZusammensetzungSumpf1.append(100)\n",
    "Kopftemperaturen.insert(0, 81)\n",
    "Kopftemperaturen.append(68)\n",
    "fig3 = plt.figure()\n",
    "ax1 = fig3.add_subplot()\n",
    "ax1.set_ylabel('Temperatur')\n",
    "ax1.set_xlabel('Zusammensetzung')\n",
    "ax1.axis([0,100,68,81])\n",
    "ax1.plot(ZusammensetzungKopf1, Kopftemperaturen)\n",
    "ax1.plot(ZusammensetzungSumpf1, Kopftemperaturen)"
   ]
  },
  {
   "cell_type": "code",
   "execution_count": null,
   "metadata": {},
   "outputs": [],
   "source": [
    "def Daten_frisieren(y):\n",
    "    "
   ]
  }
 ],
 "metadata": {
  "kernelspec": {
   "display_name": "Python 3",
   "language": "python",
   "name": "python3"
  },
  "language_info": {
   "codemirror_mode": {
    "name": "ipython",
    "version": 3
   },
   "file_extension": ".py",
   "mimetype": "text/x-python",
   "name": "python",
   "nbconvert_exporter": "python",
   "pygments_lexer": "ipython3",
   "version": "3.7.3"
  }
 },
 "nbformat": 4,
 "nbformat_minor": 2
}
